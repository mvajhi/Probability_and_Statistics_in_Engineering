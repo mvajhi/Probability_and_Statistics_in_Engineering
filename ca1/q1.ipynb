{
 "cells": [
  {
   "cell_type": "markdown",
   "metadata": {},
   "source": [
    "# part 1"
   ]
  },
  {
   "cell_type": "code",
   "execution_count": 2,
   "metadata": {},
   "outputs": [],
   "source": [
    "import numpy as np"
   ]
  },
  {
   "cell_type": "code",
   "execution_count": 6,
   "metadata": {},
   "outputs": [],
   "source": [
    "def create_samples(m : int, n : int, p : float):\n",
    "    '''\n",
    "    Create binomial samples\n",
    "    args:\n",
    "    m: samples count\n",
    "    n: count of bernoulli test in binomial\n",
    "    p: probability of bernoulli\n",
    "    '''\n",
    "    samples = np.reshape(np.random.choice([0, 1], n*m, p=[1 - p, p]), (m, n))\n",
    "    return np.sum(samples, axis=1)"
   ]
  },
  {
   "cell_type": "markdown",
   "metadata": {},
   "source": [
    "# part 2"
   ]
  },
  {
   "cell_type": "code",
   "execution_count": 49,
   "metadata": {},
   "outputs": [],
   "source": [
    "m = 5000\n",
    "n = 500"
   ]
  },
  {
   "cell_type": "code",
   "execution_count": 50,
   "metadata": {},
   "outputs": [
    {
     "data": {
      "text/plain": [
       "{0.0: {'avg': 0.0, 'var': 0.0},\n",
       " 0.01: {'avg': 5.042, 'var': 5.017436},\n",
       " 0.02: {'avg': 10.0658, 'var': 10.19987036},\n",
       " 0.03: {'avg': 14.9182, 'var': 14.357908760000003},\n",
       " 0.04: {'avg': 19.8966, 'var': 19.497108439999998},\n",
       " 0.05: {'avg': 25.0886, 'var': 23.93235004},\n",
       " 0.06: {'avg': 30.0108, 'var': 26.67908336},\n",
       " 0.07: {'avg': 35.0268, 'var': 32.21288176},\n",
       " 0.08: {'avg': 40.071, 'var': 36.217559},\n",
       " 0.09: {'avg': 45.042, 'var': 41.491035999999994},\n",
       " 0.1: {'avg': 50.0636, 'var': 44.30435504},\n",
       " 0.11: {'avg': 55.0466, 'var': 48.91802844},\n",
       " 0.12: {'avg': 59.7862, 'var': 51.04088956},\n",
       " 0.13: {'avg': 64.9272, 'var': 55.79990015999999},\n",
       " 0.14: {'avg': 70.0036, 'var': 58.617187040000005},\n",
       " 0.15: {'avg': 74.9828, 'var': 64.96250416000001},\n",
       " 0.16: {'avg': 79.9156, 'var': 67.55727664},\n",
       " 0.17: {'avg': 85.2062, 'var': 68.24448155999998},\n",
       " 0.18: {'avg': 90.0934, 'var': 73.48507644},\n",
       " 0.19: {'avg': 94.8754, 'var': 76.42747483999999},\n",
       " 0.2: {'avg': 100.05, 'var': 77.6927},\n",
       " 0.21: {'avg': 105.124, 'var': 81.87662399999999},\n",
       " 0.22: {'avg': 109.8628, 'var': 86.66677615999998},\n",
       " 0.23: {'avg': 114.9654, 'var': 90.17060284},\n",
       " 0.24: {'avg': 119.8944, 'var': 90.58204864000001},\n",
       " 0.25: {'avg': 125.3726, 'var': 89.79536924},\n",
       " 0.26: {'avg': 129.7642, 'var': 94.14139836},\n",
       " 0.27: {'avg': 134.941, 'var': 94.899519},\n",
       " 0.28: {'avg': 139.8418, 'var': 100.54557276000001},\n",
       " 0.29: {'avg': 144.9456, 'var': 102.24864063999999},\n",
       " 0.3: {'avg': 150.0752, 'var': 103.67314495999999},\n",
       " 0.31: {'avg': 154.9334, 'var': 107.93736444000001},\n",
       " 0.32: {'avg': 159.7284, 'var': 106.41583344},\n",
       " 0.33: {'avg': 165.2814, 'var': 110.75861404000001},\n",
       " 0.34: {'avg': 170.0892, 'var': 113.21124335999998},\n",
       " 0.35: {'avg': 175.1692, 'var': 113.47737136},\n",
       " 0.36: {'avg': 180.0288, 'var': 114.66797056},\n",
       " 0.37: {'avg': 185.1522, 'var': 117.02383515999999},\n",
       " 0.38: {'avg': 190.2178, 'var': 118.64236316},\n",
       " 0.39: {'avg': 194.9468, 'var': 119.06316976000001},\n",
       " 0.4: {'avg': 200.1248, 'var': 117.86722496000002},\n",
       " 0.41: {'avg': 205.2452, 'var': 119.42947696},\n",
       " 0.42: {'avg': 210.1602, 'var': 123.84413596},\n",
       " 0.43: {'avg': 214.9052, 'var': 118.99981296000001},\n",
       " 0.44: {'avg': 219.9476, 'var': 121.51965424000001},\n",
       " 0.45: {'avg': 225.1494, 'var': 122.30227963999998},\n",
       " 0.46: {'avg': 229.9558, 'var': 123.44504635999999},\n",
       " 0.47: {'avg': 234.8204, 'var': 127.69094383999999},\n",
       " 0.48: {'avg': 239.993, 'var': 122.562151},\n",
       " 0.49: {'avg': 244.9372, 'var': 124.21005616},\n",
       " 0.5: {'avg': 250.22, 'var': 124.9208},\n",
       " 0.51: {'avg': 254.736, 'var': 125.208304},\n",
       " 0.52: {'avg': 260.115, 'var': 122.343375},\n",
       " 0.53: {'avg': 264.9472, 'var': 127.69921216000002},\n",
       " 0.54: {'avg': 270.1966, 'var': 127.57874844000001},\n",
       " 0.55: {'avg': 275.1288, 'var': 122.20101055999999},\n",
       " 0.56: {'avg': 279.7492, 'var': 123.23229936},\n",
       " 0.57: {'avg': 285.4442, 'var': 120.72088635999998},\n",
       " 0.58: {'avg': 289.9572, 'var': 121.50416816},\n",
       " 0.59: {'avg': 295.0116, 'var': 122.30346544000001},\n",
       " 0.6: {'avg': 300.1178, 'var': 120.18112316000001},\n",
       " 0.61: {'avg': 305.2052, 'var': 118.45989295999999},\n",
       " 0.62: {'avg': 310.05, 'var': 115.4159},\n",
       " 0.63: {'avg': 315.1032, 'var': 118.92574975999999},\n",
       " 0.64: {'avg': 319.9402, 'var': 111.13942396},\n",
       " 0.65: {'avg': 324.8484, 'var': 116.51981744},\n",
       " 0.66: {'avg': 330.148, 'var': 110.201296},\n",
       " 0.67: {'avg': 335.1132, 'var': 114.21598576},\n",
       " 0.68: {'avg': 339.9446, 'var': 107.16673084},\n",
       " 0.69: {'avg': 344.9048, 'var': 106.66693696000002},\n",
       " 0.7: {'avg': 350.0594, 'var': 103.04747164000001},\n",
       " 0.71: {'avg': 354.9372, 'var': 101.78045616},\n",
       " 0.72: {'avg': 359.8376, 'var': 98.01762623999998},\n",
       " 0.73: {'avg': 365.2262, 'var': 97.11103355999998},\n",
       " 0.74: {'avg': 369.9474, 'var': 91.45343323999998},\n",
       " 0.75: {'avg': 375.249, 'var': 93.599399},\n",
       " 0.76: {'avg': 380.0278, 'var': 88.83302715999999},\n",
       " 0.77: {'avg': 384.9898, 'var': 85.72569596},\n",
       " 0.78: {'avg': 390.1474, 'var': 87.59007323999998},\n",
       " 0.79: {'avg': 395.151, 'var': 82.108999},\n",
       " 0.8: {'avg': 400.0146, 'var': 79.28118684},\n",
       " 0.81: {'avg': 405.3702, 'var': 74.94915196},\n",
       " 0.82: {'avg': 409.7778, 'var': 72.93722716},\n",
       " 0.83: {'avg': 414.7572, 'var': 70.12064815999999},\n",
       " 0.84: {'avg': 420.0126, 'var': 67.81764124},\n",
       " 0.85: {'avg': 424.9266, 'var': 62.581212439999995},\n",
       " 0.86: {'avg': 430.0276, 'var': 60.52563824},\n",
       " 0.87: {'avg': 434.7308, 'var': 57.40473136},\n",
       " 0.88: {'avg': 439.7818, 'var': 53.33258876},\n",
       " 0.89: {'avg': 445.064, 'var': 49.431104000000005},\n",
       " 0.9: {'avg': 449.9544, 'var': 43.78272064},\n",
       " 0.91: {'avg': 455.034, 'var': 40.052844},\n",
       " 0.92: {'avg': 460.1418, 'var': 36.791292760000005},\n",
       " 0.93: {'avg': 464.9744, 'var': 32.55134464},\n",
       " 0.94: {'avg': 469.9284, 'var': 28.246473440000006},\n",
       " 0.95: {'avg': 474.9584, 'var': 23.27506944},\n",
       " 0.96: {'avg': 479.9388, 'var': 18.83105456},\n",
       " 0.97: {'avg': 484.9748, 'var': 14.78256496},\n",
       " 0.98: {'avg': 490.0336, 'var': 9.999271040000002},\n",
       " 0.99: {'avg': 495.04, 'var': 4.853600000000001},\n",
       " 1.0: {'avg': 500.0, 'var': 0.0}}"
      ]
     },
     "execution_count": 50,
     "metadata": {},
     "output_type": "execute_result"
    }
   ],
   "source": [
    "real_output = dict()\n",
    "for p in range(0, 101, 1):\n",
    "    tmp = create_samples(m, n, p / 100)\n",
    "    avg = np.average(tmp)\n",
    "    var = np.var(tmp)\n",
    "    real_output[p / 100] = {\"avg\": avg, \"var\": var}\n",
    "real_output"
   ]
  },
  {
   "cell_type": "code",
   "execution_count": 51,
   "metadata": {},
   "outputs": [
    {
     "data": {
      "text/plain": [
       "{0.0: {'avg': 0.0, 'var': 0.0},\n",
       " 0.01: {'avg': 5.0, 'var': 4.95},\n",
       " 0.02: {'avg': 10.0, 'var': 9.8},\n",
       " 0.03: {'avg': 15.0, 'var': 14.549999999999999},\n",
       " 0.04: {'avg': 20.0, 'var': 19.2},\n",
       " 0.05: {'avg': 25.0, 'var': 23.75},\n",
       " 0.06: {'avg': 30.0, 'var': 28.2},\n",
       " 0.07: {'avg': 35.0, 'var': 32.55},\n",
       " 0.08: {'avg': 40.0, 'var': 36.800000000000004},\n",
       " 0.09: {'avg': 45.0, 'var': 40.95},\n",
       " 0.1: {'avg': 50.0, 'var': 45.0},\n",
       " 0.11: {'avg': 55.0, 'var': 48.95},\n",
       " 0.12: {'avg': 60.0, 'var': 52.8},\n",
       " 0.13: {'avg': 65.0, 'var': 56.55},\n",
       " 0.14: {'avg': 70.0, 'var': 60.199999999999996},\n",
       " 0.15: {'avg': 75.0, 'var': 63.75},\n",
       " 0.16: {'avg': 80.0, 'var': 67.2},\n",
       " 0.17: {'avg': 85.0, 'var': 70.55},\n",
       " 0.18: {'avg': 90.0, 'var': 73.80000000000001},\n",
       " 0.19: {'avg': 95.0, 'var': 76.95},\n",
       " 0.2: {'avg': 100.0, 'var': 80.0},\n",
       " 0.21: {'avg': 105.0, 'var': 82.95},\n",
       " 0.22: {'avg': 110.0, 'var': 85.8},\n",
       " 0.23: {'avg': 115.0, 'var': 88.55},\n",
       " 0.24: {'avg': 120.0, 'var': 91.2},\n",
       " 0.25: {'avg': 125.0, 'var': 93.75},\n",
       " 0.26: {'avg': 130.0, 'var': 96.2},\n",
       " 0.27: {'avg': 135.0, 'var': 98.55},\n",
       " 0.28: {'avg': 140.0, 'var': 100.8},\n",
       " 0.29: {'avg': 145.0, 'var': 102.94999999999999},\n",
       " 0.3: {'avg': 150.0, 'var': 105.0},\n",
       " 0.31: {'avg': 155.0, 'var': 106.94999999999999},\n",
       " 0.32: {'avg': 160.0, 'var': 108.79999999999998},\n",
       " 0.33: {'avg': 165.0, 'var': 110.54999999999998},\n",
       " 0.34: {'avg': 170.0, 'var': 112.19999999999999},\n",
       " 0.35: {'avg': 175.0, 'var': 113.75},\n",
       " 0.36: {'avg': 180.0, 'var': 115.2},\n",
       " 0.37: {'avg': 185.0, 'var': 116.55},\n",
       " 0.38: {'avg': 190.0, 'var': 117.8},\n",
       " 0.39: {'avg': 195.0, 'var': 118.95},\n",
       " 0.4: {'avg': 200.0, 'var': 120.0},\n",
       " 0.41: {'avg': 205.0, 'var': 120.95000000000002},\n",
       " 0.42: {'avg': 210.0, 'var': 121.80000000000001},\n",
       " 0.43: {'avg': 215.0, 'var': 122.55000000000001},\n",
       " 0.44: {'avg': 220.0, 'var': 123.20000000000002},\n",
       " 0.45: {'avg': 225.0, 'var': 123.75000000000001},\n",
       " 0.46: {'avg': 230.0, 'var': 124.2},\n",
       " 0.47: {'avg': 235.0, 'var': 124.55000000000001},\n",
       " 0.48: {'avg': 240.0, 'var': 124.80000000000001},\n",
       " 0.49: {'avg': 245.0, 'var': 124.95},\n",
       " 0.5: {'avg': 250.0, 'var': 125.0},\n",
       " 0.51: {'avg': 255.0, 'var': 124.95},\n",
       " 0.52: {'avg': 260.0, 'var': 124.8},\n",
       " 0.53: {'avg': 265.0, 'var': 124.55},\n",
       " 0.54: {'avg': 270.0, 'var': 124.19999999999999},\n",
       " 0.55: {'avg': 275.0, 'var': 123.74999999999999},\n",
       " 0.56: {'avg': 280.0, 'var': 123.19999999999999},\n",
       " 0.57: {'avg': 285.0, 'var': 122.55000000000001},\n",
       " 0.58: {'avg': 290.0, 'var': 121.80000000000001},\n",
       " 0.59: {'avg': 295.0, 'var': 120.95},\n",
       " 0.6: {'avg': 300.0, 'var': 120.0},\n",
       " 0.61: {'avg': 305.0, 'var': 118.95},\n",
       " 0.62: {'avg': 310.0, 'var': 117.8},\n",
       " 0.63: {'avg': 315.0, 'var': 116.55},\n",
       " 0.64: {'avg': 320.0, 'var': 115.19999999999999},\n",
       " 0.65: {'avg': 325.0, 'var': 113.74999999999999},\n",
       " 0.66: {'avg': 330.0, 'var': 112.19999999999999},\n",
       " 0.67: {'avg': 335.0, 'var': 110.54999999999998},\n",
       " 0.68: {'avg': 340.0, 'var': 108.79999999999998},\n",
       " 0.69: {'avg': 345.0, 'var': 106.95000000000002},\n",
       " 0.7: {'avg': 350.0, 'var': 105.00000000000001},\n",
       " 0.71: {'avg': 355.0, 'var': 102.95000000000002},\n",
       " 0.72: {'avg': 360.0, 'var': 100.80000000000001},\n",
       " 0.73: {'avg': 365.0, 'var': 98.55000000000001},\n",
       " 0.74: {'avg': 370.0, 'var': 96.2},\n",
       " 0.75: {'avg': 375.0, 'var': 93.75},\n",
       " 0.76: {'avg': 380.0, 'var': 91.2},\n",
       " 0.77: {'avg': 385.0, 'var': 88.55},\n",
       " 0.78: {'avg': 390.0, 'var': 85.79999999999998},\n",
       " 0.79: {'avg': 395.0, 'var': 82.94999999999999},\n",
       " 0.8: {'avg': 400.0, 'var': 79.99999999999999},\n",
       " 0.81: {'avg': 405.0, 'var': 76.94999999999997},\n",
       " 0.82: {'avg': 410.0, 'var': 73.80000000000003},\n",
       " 0.83: {'avg': 415.0, 'var': 70.55000000000001},\n",
       " 0.84: {'avg': 420.0, 'var': 67.20000000000002},\n",
       " 0.85: {'avg': 425.0, 'var': 63.75000000000001},\n",
       " 0.86: {'avg': 430.0, 'var': 60.2},\n",
       " 0.87: {'avg': 435.0, 'var': 56.550000000000004},\n",
       " 0.88: {'avg': 440.0, 'var': 52.8},\n",
       " 0.89: {'avg': 445.0, 'var': 48.949999999999996},\n",
       " 0.9: {'avg': 450.0, 'var': 44.99999999999999},\n",
       " 0.91: {'avg': 455.0, 'var': 40.94999999999999},\n",
       " 0.92: {'avg': 460.0, 'var': 36.79999999999998},\n",
       " 0.93: {'avg': 465.0, 'var': 32.549999999999976},\n",
       " 0.94: {'avg': 470.0, 'var': 28.200000000000024},\n",
       " 0.95: {'avg': 475.0, 'var': 23.75000000000002},\n",
       " 0.96: {'avg': 480.0, 'var': 19.200000000000017},\n",
       " 0.97: {'avg': 485.0, 'var': 14.550000000000013},\n",
       " 0.98: {'avg': 490.0, 'var': 9.800000000000008},\n",
       " 0.99: {'avg': 495.0, 'var': 4.950000000000005},\n",
       " 1.0: {'avg': 500.0, 'var': 0.0}}"
      ]
     },
     "execution_count": 51,
     "metadata": {},
     "output_type": "execute_result"
    }
   ],
   "source": [
    "formula_output = dict()\n",
    "for p in range(0, 101, 1):\n",
    "    formula_output[p / 100] = {\"avg\": n * p / 100,\"var\": n * (p / 100) * (1 - (p / 100))}\n",
    "formula_output"
   ]
  },
  {
   "cell_type": "markdown",
   "metadata": {},
   "source": [
    "# part 3"
   ]
  },
  {
   "cell_type": "code",
   "execution_count": 52,
   "metadata": {},
   "outputs": [],
   "source": [
    "import matplotlib.pyplot as plt"
   ]
  },
  {
   "cell_type": "code",
   "execution_count": 53,
   "metadata": {},
   "outputs": [
    {
     "data": {
      "image/png": "[encoded data removed]",
      "text/plain": [
       "<Figure size 640x480 with 1 Axes>"
      ]
     },
     "metadata": {},
     "output_type": "display_data"
    }
   ],
   "source": [
    "fig, ax = plt.subplots()\n",
    "line1, = ax.plot(formula_output.keys(), [i[\"avg\"] for i in formula_output.values()], label='formula')\n",
    "\n",
    "line2, = ax.plot(real_output.keys(), [i[\"avg\"] for i in real_output.values()], label='Real')\n",
    "ax.legend()\n",
    "plt.show()"
   ]
  },
  {
   "cell_type": "code",
   "execution_count": 54,
   "metadata": {},
   "outputs": [
    {
     "data": {
      "image/png": "[encoded data removed]",
      "text/plain": [
       "<Figure size 640x480 with 1 Axes>"
      ]
     },
     "metadata": {},
     "output_type": "display_data"
    }
   ],
   "source": [
    "fig, ax = plt.subplots()\n",
    "line1, = ax.plot(formula_output.keys(), [i[\"var\"] for i in formula_output.values()], label='formula')\n",
    "\n",
    "line2, = ax.plot(real_output.keys(), [i[\"var\"] for i in real_output.values()], label='Real')\n",
    "ax.legend()\n",
    "plt.show()"
   ]
  }
 ],
 "metadata": {
  "kernelspec": {
   "display_name": "Python 3",
   "language": "python",
   "name": "python3"
  },
  "language_info": {
   "codemirror_mode": {
    "name": "ipython",
    "version": 3
   },
   "file_extension": ".py",
   "mimetype": "text/x-python",
   "name": "python",
   "nbconvert_exporter": "python",
   "pygments_lexer": "ipython3",
   "version": "3.10.12"
  }
 },
 "nbformat": 4,
 "nbformat_minor": 2
}
