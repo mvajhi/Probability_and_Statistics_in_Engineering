{
 "cells": [
  {
   "cell_type": "markdown",
   "metadata": {},
   "source": [
    "# part 1"
   ]
  },
  {
   "cell_type": "code",
   "execution_count": 2,
   "metadata": {},
   "outputs": [],
   "source": [
    "import numpy as np"
   ]
  },
  {
   "cell_type": "code",
   "execution_count": 6,
   "metadata": {},
   "outputs": [],
   "source": [
    "def create_samples(m : int, n : int, p : float):\n",
    "    '''\n",
    "    Create binomial samples\n",
    "    args:\n",
    "    m: samples count\n",
    "    n: count of bernoulli test in binomial\n",
    "    p: probability of bernoulli\n",
    "    '''\n",
    "    samples = np.reshape(np.random.choice([0, 1], n*m, p=[1 - p, p]), (m, n))\n",
    "    return np.sum(samples, axis=1)"
   ]
  },
  {
   "cell_type": "markdown",
   "metadata": {},
   "source": [
    "# part 2"
   ]
  },
  {
   "cell_type": "code",
   "execution_count": 55,
   "metadata": {},
   "outputs": [],
   "source": [
    "m = 50000\n",
    "n = 500"
   ]
  },
  {
   "cell_type": "code",
   "execution_count": 56,
   "metadata": {},
   "outputs": [
    {
     "data": {
      "text/plain": [
       "{0.0: {'avg': 0.0, 'var': 0.0},\n",
       " 0.01: {'avg': 5.00696, 'var': 4.983751558400001},\n",
       " 0.02: {'avg': 9.98368, 'var': 9.7576536576},\n",
       " 0.03: {'avg': 15.00066, 'var': 14.446979564400001},\n",
       " 0.04: {'avg': 20.0134, 'var': 19.160540440000002},\n",
       " 0.05: {'avg': 24.99488, 'var': 23.7186937856},\n",
       " 0.06: {'avg': 29.99184, 'var': 28.190493414399995},\n",
       " 0.07: {'avg': 34.98224, 'var': 32.73184458240001},\n",
       " 0.08: {'avg': 39.96776, 'var': 36.5470405824},\n",
       " 0.09: {'avg': 44.9513, 'var': 41.190368310000004},\n",
       " 0.1: {'avg': 49.97914, 'var': 44.9669848604},\n",
       " 0.11: {'avg': 55.0189, 'var': 48.64598279},\n",
       " 0.12: {'avg': 59.9863, 'var': 53.06203231},\n",
       " 0.13: {'avg': 65.07168, 'var': 56.3863019776},\n",
       " 0.14: {'avg': 70.05386, 'var': 60.1850391004},\n",
       " 0.15: {'avg': 74.99018, 'var': 63.82384356759999},\n",
       " 0.16: {'avg': 80.00784, 'var': 66.7360585344},\n",
       " 0.17: {'avg': 84.95078, 'var': 69.9695573916},\n",
       " 0.18: {'avg': 90.03458, 'var': 74.68866422359999},\n",
       " 0.19: {'avg': 95.04314, 'var': 76.61711894039999},\n",
       " 0.2: {'avg': 100.00248, 'var': 80.0619138496},\n",
       " 0.21: {'avg': 105.04934, 'var': 82.82466556440001},\n",
       " 0.22: {'avg': 109.9624, 'var': 85.95082624},\n",
       " 0.23: {'avg': 115.0571, 'var': 88.98151958999999},\n",
       " 0.24: {'avg': 120.01668, 'var': 91.15224177760001},\n",
       " 0.25: {'avg': 125.01118, 'var': 94.0628550076},\n",
       " 0.26: {'avg': 129.99476, 'var': 96.94153254239998},\n",
       " 0.27: {'avg': 134.9755, 'var': 99.45961975},\n",
       " 0.28: {'avg': 140.06474, 'var': 101.04826873240002},\n",
       " 0.29: {'avg': 145.00586, 'var': 103.0753456604},\n",
       " 0.3: {'avg': 149.90852, 'var': 105.43331140960002},\n",
       " 0.31: {'avg': 155.0353, 'var': 107.93685391000001},\n",
       " 0.32: {'avg': 160.01034, 'var': 108.7265530844},\n",
       " 0.33: {'avg': 165.0105, 'var': 110.15922975},\n",
       " 0.34: {'avg': 169.91394, 'var': 111.33241367640002},\n",
       " 0.35: {'avg': 175.09828, 'var': 113.3763810416},\n",
       " 0.36: {'avg': 179.99498, 'var': 116.6262747996},\n",
       " 0.37: {'avg': 185.01696, 'var': 116.50935235840001},\n",
       " 0.38: {'avg': 189.9865, 'var': 117.03823774999998},\n",
       " 0.39: {'avg': 195.02028, 'var': 118.57526872159998},\n",
       " 0.4: {'avg': 200.01056, 'var': 120.1600884864},\n",
       " 0.41: {'avg': 204.94002, 'var': 122.13270239960002},\n",
       " 0.42: {'avg': 210.03056, 'var': 122.54334608640002},\n",
       " 0.43: {'avg': 215.03418, 'var': 122.00541172760002},\n",
       " 0.44: {'avg': 219.94376, 'var': 121.73203706240002},\n",
       " 0.45: {'avg': 224.89906, 'var': 121.96171111640001},\n",
       " 0.46: {'avg': 229.9808, 'var': 125.82127136},\n",
       " 0.47: {'avg': 234.97756, 'var': 124.5224164464},\n",
       " 0.48: {'avg': 240.03266, 'var': 123.9902333244},\n",
       " 0.49: {'avg': 244.99326, 'var': 124.17877457239999},\n",
       " 0.5: {'avg': 249.95676, 'var': 125.07453030239998},\n",
       " 0.51: {'avg': 254.91592, 'var': 124.37109055359998},\n",
       " 0.52: {'avg': 259.97612, 'var': 124.7486697456},\n",
       " 0.53: {'avg': 264.90926, 'var': 123.6674662524},\n",
       " 0.54: {'avg': 270.09276, 'var': 123.18719558240004},\n",
       " 0.55: {'avg': 275.035, 'var': 122.564815},\n",
       " 0.56: {'avg': 280.07604, 'var': 124.1852979184},\n",
       " 0.57: {'avg': 285.04646, 'var': 122.70722146839995},\n",
       " 0.58: {'avg': 290.02156, 'var': 122.8677351664},\n",
       " 0.59: {'avg': 294.9628, 'var': 122.93081616000002},\n",
       " 0.6: {'avg': 299.92884, 'var': 119.0972562544},\n",
       " 0.61: {'avg': 304.98468, 'var': 118.17452529759997},\n",
       " 0.62: {'avg': 310.00222, 'var': 118.57865507160001},\n",
       " 0.63: {'avg': 314.99272, 'var': 117.90154700160001},\n",
       " 0.64: {'avg': 319.97936, 'var': 114.25753399039996},\n",
       " 0.65: {'avg': 324.95758, 'var': 113.6883805436},\n",
       " 0.66: {'avg': 329.95356, 'var': 112.1415633264},\n",
       " 0.67: {'avg': 335.06588, 'var': 110.27429982560001},\n",
       " 0.68: {'avg': 340.01216, 'var': 108.11937213439997},\n",
       " 0.69: {'avg': 345.03862, 'var': 106.82696849559998},\n",
       " 0.7: {'avg': 350.02442, 'var': 105.2186636636},\n",
       " 0.71: {'avg': 354.9204, 'var': 103.49798384000003},\n",
       " 0.72: {'avg': 359.935, 'var': 100.75481499999998},\n",
       " 0.73: {'avg': 365.11244, 'var': 98.08503724639999},\n",
       " 0.74: {'avg': 369.99814, 'var': 96.87821654039998},\n",
       " 0.75: {'avg': 374.94544, 'var': 93.6067032064},\n",
       " 0.76: {'avg': 380.06896, 'var': 91.0275245184},\n",
       " 0.77: {'avg': 384.96878, 'var': 88.05548531160001},\n",
       " 0.78: {'avg': 389.97502, 'var': 86.23699599959997},\n",
       " 0.79: {'avg': 395.03212, 'var': 82.71756830560001},\n",
       " 0.8: {'avg': 399.98272, 'var': 80.99978140159999},\n",
       " 0.81: {'avg': 405.0692, 'var': 75.71493136000001},\n",
       " 0.82: {'avg': 410.0181, 'var': 73.28253239000001},\n",
       " 0.83: {'avg': 414.98294, 'var': 70.5694489564},\n",
       " 0.84: {'avg': 420.00474, 'var': 67.14727753240003},\n",
       " 0.85: {'avg': 425.01072, 'var': 63.3549650816},\n",
       " 0.86: {'avg': 429.99988, 'var': 60.265599985600005},\n",
       " 0.87: {'avg': 434.99552, 'var': 56.70001992959998},\n",
       " 0.88: {'avg': 439.97642, 'var': 52.9431439836},\n",
       " 0.89: {'avg': 445.00238, 'var': 48.6408543356},\n",
       " 0.9: {'avg': 449.99284, 'var': 44.72106873439999},\n",
       " 0.91: {'avg': 454.98266, 'var': 40.93763932439999},\n",
       " 0.92: {'avg': 460.04414, 'var': 36.6595516604},\n",
       " 0.93: {'avg': 464.98768, 'var': 32.4350482176},\n",
       " 0.94: {'avg': 469.96374, 'var': 28.267265212399998},\n",
       " 0.95: {'avg': 474.98314, 'var': 24.087335740399993},\n",
       " 0.96: {'avg': 479.97612, 'var': 19.276829745599997},\n",
       " 0.97: {'avg': 484.99626, 'var': 14.5200860124},\n",
       " 0.98: {'avg': 490.00352, 'var': 9.874867609600003},\n",
       " 0.99: {'avg': 495.01028, 'var': 4.9080543216},\n",
       " 1.0: {'avg': 500.0, 'var': 0.0}}"
      ]
     },
     "execution_count": 56,
     "metadata": {},
     "output_type": "execute_result"
    }
   ],
   "source": [
    "real_output = dict()\n",
    "for p in range(0, 101, 1):\n",
    "    tmp = create_samples(m, n, p / 100)\n",
    "    avg = np.average(tmp)\n",
    "    var = np.var(tmp)\n",
    "    real_output[p / 100] = {\"avg\": avg, \"var\": var}\n",
    "real_output"
   ]
  },
  {
   "cell_type": "code",
   "execution_count": 57,
   "metadata": {},
   "outputs": [
    {
     "data": {
      "text/plain": [
       "{0.0: {'avg': 0.0, 'var': 0.0},\n",
       " 0.01: {'avg': 5.0, 'var': 4.95},\n",
       " 0.02: {'avg': 10.0, 'var': 9.8},\n",
       " 0.03: {'avg': 15.0, 'var': 14.549999999999999},\n",
       " 0.04: {'avg': 20.0, 'var': 19.2},\n",
       " 0.05: {'avg': 25.0, 'var': 23.75},\n",
       " 0.06: {'avg': 30.0, 'var': 28.2},\n",
       " 0.07: {'avg': 35.0, 'var': 32.55},\n",
       " 0.08: {'avg': 40.0, 'var': 36.800000000000004},\n",
       " 0.09: {'avg': 45.0, 'var': 40.95},\n",
       " 0.1: {'avg': 50.0, 'var': 45.0},\n",
       " 0.11: {'avg': 55.0, 'var': 48.95},\n",
       " 0.12: {'avg': 60.0, 'var': 52.8},\n",
       " 0.13: {'avg': 65.0, 'var': 56.55},\n",
       " 0.14: {'avg': 70.0, 'var': 60.199999999999996},\n",
       " 0.15: {'avg': 75.0, 'var': 63.75},\n",
       " 0.16: {'avg': 80.0, 'var': 67.2},\n",
       " 0.17: {'avg': 85.0, 'var': 70.55},\n",
       " 0.18: {'avg': 90.0, 'var': 73.80000000000001},\n",
       " 0.19: {'avg': 95.0, 'var': 76.95},\n",
       " 0.2: {'avg': 100.0, 'var': 80.0},\n",
       " 0.21: {'avg': 105.0, 'var': 82.95},\n",
       " 0.22: {'avg': 110.0, 'var': 85.8},\n",
       " 0.23: {'avg': 115.0, 'var': 88.55},\n",
       " 0.24: {'avg': 120.0, 'var': 91.2},\n",
       " 0.25: {'avg': 125.0, 'var': 93.75},\n",
       " 0.26: {'avg': 130.0, 'var': 96.2},\n",
       " 0.27: {'avg': 135.0, 'var': 98.55},\n",
       " 0.28: {'avg': 140.0, 'var': 100.8},\n",
       " 0.29: {'avg': 145.0, 'var': 102.94999999999999},\n",
       " 0.3: {'avg': 150.0, 'var': 105.0},\n",
       " 0.31: {'avg': 155.0, 'var': 106.94999999999999},\n",
       " 0.32: {'avg': 160.0, 'var': 108.79999999999998},\n",
       " 0.33: {'avg': 165.0, 'var': 110.54999999999998},\n",
       " 0.34: {'avg': 170.0, 'var': 112.19999999999999},\n",
       " 0.35: {'avg': 175.0, 'var': 113.75},\n",
       " 0.36: {'avg': 180.0, 'var': 115.2},\n",
       " 0.37: {'avg': 185.0, 'var': 116.55},\n",
       " 0.38: {'avg': 190.0, 'var': 117.8},\n",
       " 0.39: {'avg': 195.0, 'var': 118.95},\n",
       " 0.4: {'avg': 200.0, 'var': 120.0},\n",
       " 0.41: {'avg': 205.0, 'var': 120.95000000000002},\n",
       " 0.42: {'avg': 210.0, 'var': 121.80000000000001},\n",
       " 0.43: {'avg': 215.0, 'var': 122.55000000000001},\n",
       " 0.44: {'avg': 220.0, 'var': 123.20000000000002},\n",
       " 0.45: {'avg': 225.0, 'var': 123.75000000000001},\n",
       " 0.46: {'avg': 230.0, 'var': 124.2},\n",
       " 0.47: {'avg': 235.0, 'var': 124.55000000000001},\n",
       " 0.48: {'avg': 240.0, 'var': 124.80000000000001},\n",
       " 0.49: {'avg': 245.0, 'var': 124.95},\n",
       " 0.5: {'avg': 250.0, 'var': 125.0},\n",
       " 0.51: {'avg': 255.0, 'var': 124.95},\n",
       " 0.52: {'avg': 260.0, 'var': 124.8},\n",
       " 0.53: {'avg': 265.0, 'var': 124.55},\n",
       " 0.54: {'avg': 270.0, 'var': 124.19999999999999},\n",
       " 0.55: {'avg': 275.0, 'var': 123.74999999999999},\n",
       " 0.56: {'avg': 280.0, 'var': 123.19999999999999},\n",
       " 0.57: {'avg': 285.0, 'var': 122.55000000000001},\n",
       " 0.58: {'avg': 290.0, 'var': 121.80000000000001},\n",
       " 0.59: {'avg': 295.0, 'var': 120.95},\n",
       " 0.6: {'avg': 300.0, 'var': 120.0},\n",
       " 0.61: {'avg': 305.0, 'var': 118.95},\n",
       " 0.62: {'avg': 310.0, 'var': 117.8},\n",
       " 0.63: {'avg': 315.0, 'var': 116.55},\n",
       " 0.64: {'avg': 320.0, 'var': 115.19999999999999},\n",
       " 0.65: {'avg': 325.0, 'var': 113.74999999999999},\n",
       " 0.66: {'avg': 330.0, 'var': 112.19999999999999},\n",
       " 0.67: {'avg': 335.0, 'var': 110.54999999999998},\n",
       " 0.68: {'avg': 340.0, 'var': 108.79999999999998},\n",
       " 0.69: {'avg': 345.0, 'var': 106.95000000000002},\n",
       " 0.7: {'avg': 350.0, 'var': 105.00000000000001},\n",
       " 0.71: {'avg': 355.0, 'var': 102.95000000000002},\n",
       " 0.72: {'avg': 360.0, 'var': 100.80000000000001},\n",
       " 0.73: {'avg': 365.0, 'var': 98.55000000000001},\n",
       " 0.74: {'avg': 370.0, 'var': 96.2},\n",
       " 0.75: {'avg': 375.0, 'var': 93.75},\n",
       " 0.76: {'avg': 380.0, 'var': 91.2},\n",
       " 0.77: {'avg': 385.0, 'var': 88.55},\n",
       " 0.78: {'avg': 390.0, 'var': 85.79999999999998},\n",
       " 0.79: {'avg': 395.0, 'var': 82.94999999999999},\n",
       " 0.8: {'avg': 400.0, 'var': 79.99999999999999},\n",
       " 0.81: {'avg': 405.0, 'var': 76.94999999999997},\n",
       " 0.82: {'avg': 410.0, 'var': 73.80000000000003},\n",
       " 0.83: {'avg': 415.0, 'var': 70.55000000000001},\n",
       " 0.84: {'avg': 420.0, 'var': 67.20000000000002},\n",
       " 0.85: {'avg': 425.0, 'var': 63.75000000000001},\n",
       " 0.86: {'avg': 430.0, 'var': 60.2},\n",
       " 0.87: {'avg': 435.0, 'var': 56.550000000000004},\n",
       " 0.88: {'avg': 440.0, 'var': 52.8},\n",
       " 0.89: {'avg': 445.0, 'var': 48.949999999999996},\n",
       " 0.9: {'avg': 450.0, 'var': 44.99999999999999},\n",
       " 0.91: {'avg': 455.0, 'var': 40.94999999999999},\n",
       " 0.92: {'avg': 460.0, 'var': 36.79999999999998},\n",
       " 0.93: {'avg': 465.0, 'var': 32.549999999999976},\n",
       " 0.94: {'avg': 470.0, 'var': 28.200000000000024},\n",
       " 0.95: {'avg': 475.0, 'var': 23.75000000000002},\n",
       " 0.96: {'avg': 480.0, 'var': 19.200000000000017},\n",
       " 0.97: {'avg': 485.0, 'var': 14.550000000000013},\n",
       " 0.98: {'avg': 490.0, 'var': 9.800000000000008},\n",
       " 0.99: {'avg': 495.0, 'var': 4.950000000000005},\n",
       " 1.0: {'avg': 500.0, 'var': 0.0}}"
      ]
     },
     "execution_count": 57,
     "metadata": {},
     "output_type": "execute_result"
    }
   ],
   "source": [
    "formula_output = dict()\n",
    "for p in range(0, 101, 1):\n",
    "    formula_output[p / 100] = {\"avg\": n * p / 100,\"var\": n * (p / 100) * (1 - (p / 100))}\n",
    "formula_output"
   ]
  },
  {
   "cell_type": "markdown",
   "metadata": {},
   "source": [
    "# part 3"
   ]
  },
  {
   "cell_type": "code",
   "execution_count": 58,
   "metadata": {},
   "outputs": [],
   "source": [
    "import matplotlib.pyplot as plt"
   ]
  },
  {
   "cell_type": "code",
   "execution_count": 59,
   "metadata": {},
   "outputs": [
    {
     "data": {
      "image/png": "[encoded data removed]",
      "text/plain": [
       "<Figure size 640x480 with 1 Axes>"
      ]
     },
     "metadata": {},
     "output_type": "display_data"
    }
   ],
   "source": [
    "fig, ax = plt.subplots()\n",
    "line1, = ax.plot(formula_output.keys(), [i[\"avg\"] for i in formula_output.values()], label='formula')\n",
    "\n",
    "line2, = ax.plot(real_output.keys(), [i[\"avg\"] for i in real_output.values()], label='Real')\n",
    "ax.legend()\n",
    "plt.show()"
   ]
  },
  {
   "cell_type": "code",
   "execution_count": 60,
   "metadata": {},
   "outputs": [
    {
     "data": {
      "image/png": "[encoded data removed]",
      "text/plain": [
       "<Figure size 640x480 with 1 Axes>"
      ]
     },
     "metadata": {},
     "output_type": "display_data"
    }
   ],
   "source": [
    "fig, ax = plt.subplots()\n",
    "line1, = ax.plot(formula_output.keys(), [i[\"var\"] for i in formula_output.values()], label='formula')\n",
    "\n",
    "line2, = ax.plot(real_output.keys(), [i[\"var\"] for i in real_output.values()], label='Real')\n",
    "ax.legend()\n",
    "plt.show()"
   ]
  }
 ],
 "metadata": {
  "kernelspec": {
   "display_name": "Python 3",
   "language": "python",
   "name": "python3"
  },
  "language_info": {
   "codemirror_mode": {
    "name": "ipython",
    "version": 3
   },
   "file_extension": ".py",
   "mimetype": "text/x-python",
   "name": "python",
   "nbconvert_exporter": "python",
   "pygments_lexer": "ipython3",
   "version": "3.10.12"
  }
 },
 "nbformat": 4,
 "nbformat_minor": 2
}
