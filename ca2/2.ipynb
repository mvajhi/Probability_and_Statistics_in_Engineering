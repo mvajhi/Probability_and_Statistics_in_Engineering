{
 "cells": [
  {
   "cell_type": "markdown",
   "metadata": {},
   "source": [
    "# Question 2"
   ]
  },
  {
   "cell_type": "code",
   "execution_count": 15,
   "metadata": {},
   "outputs": [],
   "source": [
    "import numpy as np\n",
    "import sympy as sp"
   ]
  },
  {
   "cell_type": "markdown",
   "metadata": {},
   "source": [
    "## Part 1"
   ]
  },
  {
   "cell_type": "code",
   "execution_count": 7,
   "metadata": {},
   "outputs": [],
   "source": [
    "def simulate_coupon(n : int) -> int:\n",
    "    check_list = [0] * n\n",
    "    check_list_counter = 0\n",
    "    try_counter = 0\n",
    "    while (check_list_counter < n):\n",
    "        try_counter += 1\n",
    "        new_coupon = np.random.randint(0, n)\n",
    "        if check_list[new_coupon] == 0:\n",
    "            check_list[new_coupon] = 1\n",
    "            check_list_counter += 1\n",
    "    return try_counter"
   ]
  },
  {
   "cell_type": "code",
   "execution_count": 8,
   "metadata": {},
   "outputs": [],
   "source": [
    "def solve_coupon_M_C(n : int, k : int) -> float:\n",
    "    sum_of_try = 0\n",
    "    for i in range(k):\n",
    "        sum_of_try += simulate_coupon(n)\n",
    "    return sum_of_try / k"
   ]
  },
  {
   "cell_type": "markdown",
   "metadata": {},
   "source": [
    "## Part 2"
   ]
  },
  {
   "cell_type": "code",
   "execution_count": 9,
   "metadata": {},
   "outputs": [],
   "source": [
    "n = 10\n",
    "k = [10, 100, 1000]"
   ]
  },
  {
   "cell_type": "code",
   "execution_count": 12,
   "metadata": {},
   "outputs": [
    {
     "data": {
      "text/plain": [
       "[29.1, 31.12, 29.224]"
      ]
     },
     "execution_count": 12,
     "metadata": {},
     "output_type": "execute_result"
    }
   ],
   "source": [
    "ans = list()\n",
    "for i in k:\n",
    "    ans.append(solve_coupon_M_C(n, i))\n",
    "ans"
   ]
  },
  {
   "cell_type": "markdown",
   "metadata": {},
   "source": [
    "## Part 3"
   ]
  },
  {
   "cell_type": "code",
   "execution_count": 18,
   "metadata": {},
   "outputs": [],
   "source": [
    "n = sp.symbols('n')\n",
    "i = sp.symbols('i')\n",
    "s = sp.symbols('s')"
   ]
  },
  {
   "cell_type": "code",
   "execution_count": 40,
   "metadata": {},
   "outputs": [
    {
     "data": {
      "text/latex": [
       "$\\displaystyle \\frac{- i + n + 1}{n}$"
      ],
      "text/plain": [
       "(-i + n + 1)/n"
      ]
     },
     "execution_count": 40,
     "metadata": {},
     "output_type": "execute_result"
    }
   ],
   "source": [
    "p_i = ((n - (i - 1)) / n)\n",
    "p_i"
   ]
  },
  {
   "cell_type": "code",
   "execution_count": 44,
   "metadata": {},
   "outputs": [
    {
     "data": {
      "text/latex": [
       "$\\displaystyle \\sum_{i=1}^{\\infty} \\frac{\\left(1 - \\frac{- i + n + 1}{n}\\right)^{i - 1} \\left(- i + n + 1\\right) e^{i s}}{n}$"
      ],
      "text/plain": [
       "Sum((1 - (-i + n + 1)/n)**(i - 1)*(-i + n + 1)*exp(i*s)/n, (i, 1, oo))"
      ]
     },
     "execution_count": 44,
     "metadata": {},
     "output_type": "execute_result"
    }
   ],
   "source": [
    "phi_x = sp.Sum(((sp.E ** (s * i)) * (p_i * ((1- p_i) ** (i - 1))))\n",
    "               , (i, 1, sp.oo))\n",
    "phi_x"
   ]
  },
  {
   "cell_type": "code",
   "execution_count": 45,
   "metadata": {},
   "outputs": [
    {
     "data": {
      "text/latex": [
       "$\\displaystyle \\sum_{i=1}^{\\infty} \\frac{\\left(11 - i\\right) \\left(\\frac{i}{10} - \\frac{1}{10}\\right)^{i - 1} e^{i s}}{10}$"
      ],
      "text/plain": [
       "Sum((11 - i)*(i/10 - 1/10)**(i - 1)*exp(i*s)/10, (i, 1, oo))"
      ]
     },
     "execution_count": 45,
     "metadata": {},
     "output_type": "execute_result"
    }
   ],
   "source": [
    "phi_x.subs({n : 10})"
   ]
  },
  {
   "cell_type": "markdown",
   "metadata": {},
   "source": [
    "## Part 4"
   ]
  },
  {
   "cell_type": "code",
   "execution_count": 46,
   "metadata": {},
   "outputs": [
    {
     "data": {
      "text/latex": [
       "$\\displaystyle \\left(\\sum_{i=1}^{\\infty} \\frac{\\left(1 - \\frac{- i + n + 1}{n}\\right)^{i - 1} \\left(- i + n + 1\\right) e^{i s}}{n}\\right)^{n}$"
      ],
      "text/plain": [
       "Sum((1 - (-i + n + 1)/n)**(i - 1)*(-i + n + 1)*exp(i*s)/n, (i, 1, oo))**n"
      ]
     },
     "execution_count": 46,
     "metadata": {},
     "output_type": "execute_result"
    }
   ],
   "source": [
    "phi_X = phi_x ** n\n",
    "phi_X"
   ]
  },
  {
   "cell_type": "markdown",
   "metadata": {},
   "source": [
    "## Part 5"
   ]
  },
  {
   "cell_type": "code",
   "execution_count": 48,
   "metadata": {},
   "outputs": [
    {
     "data": {
      "text/latex": [
       "$\\displaystyle 10 \\left(\\left(\\sum_{i=1}^{\\infty} \\frac{\\left(11 - i\\right) \\left(\\frac{i}{10} - \\frac{1}{10}\\right)^{i - 1}}{10}\\right)^{9}\\right) \\sum_{i=1}^{\\infty} \\frac{i \\left(11 - i\\right) \\left(\\frac{i}{10} - \\frac{1}{10}\\right)^{i - 1}}{10}$"
      ],
      "text/plain": [
       "10*Sum((11 - i)*(i/10 - 1/10)**(i - 1)/10, (i, 1, oo))**9*Sum(i*(11 - i)*(i/10 - 1/10)**(i - 1)/10, (i, 1, oo))"
      ]
     },
     "execution_count": 48,
     "metadata": {},
     "output_type": "execute_result"
    }
   ],
   "source": [
    "E_X = sp.diff(phi_X, s).subs({n : 10, s : 0})\n",
    "E_X"
   ]
  },
  {
   "cell_type": "code",
   "execution_count": null,
   "metadata": {},
   "outputs": [],
   "source": [
    "E_X.evalf()"
   ]
  },
  {
   "cell_type": "code",
   "execution_count": null,
   "metadata": {},
   "outputs": [],
   "source": []
  }
 ],
 "metadata": {
  "kernelspec": {
   "display_name": "Python 3",
   "language": "python",
   "name": "python3"
  },
  "language_info": {
   "codemirror_mode": {
    "name": "ipython",
    "version": 3
   },
   "file_extension": ".py",
   "mimetype": "text/x-python",
   "name": "python",
   "nbconvert_exporter": "python",
   "pygments_lexer": "ipython3",
   "version": "3.10.12"
  }
 },
 "nbformat": 4,
 "nbformat_minor": 2
}
