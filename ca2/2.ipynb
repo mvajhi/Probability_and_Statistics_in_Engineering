{
 "cells": [
  {
   "cell_type": "markdown",
   "metadata": {},
   "source": [
    "# Question 2"
   ]
  },
  {
   "cell_type": "code",
   "execution_count": 1,
   "metadata": {},
   "outputs": [],
   "source": [
    "import numpy as np"
   ]
  },
  {
   "cell_type": "markdown",
   "metadata": {},
   "source": [
    "## Part 1"
   ]
  },
  {
   "cell_type": "code",
   "execution_count": 7,
   "metadata": {},
   "outputs": [],
   "source": [
    "def simulate_coupon(n : int) -> int:\n",
    "    check_list = [0] * n\n",
    "    check_list_counter = 0\n",
    "    try_counter = 0\n",
    "    while (check_list_counter < n):\n",
    "        try_counter += 1\n",
    "        new_coupon = np.random.randint(0, n)\n",
    "        if check_list[new_coupon] == 0:\n",
    "            check_list[new_coupon] = 1\n",
    "            check_list_counter += 1\n",
    "    return try_counter"
   ]
  },
  {
   "cell_type": "code",
   "execution_count": 8,
   "metadata": {},
   "outputs": [],
   "source": [
    "def solve_coupon_M_C(n : int, k : int) -> float:\n",
    "    sum_of_try = 0\n",
    "    for i in range(k):\n",
    "        sum_of_try += simulate_coupon(n)\n",
    "    return sum_of_try / k"
   ]
  },
  {
   "cell_type": "markdown",
   "metadata": {},
   "source": [
    "## Part 2"
   ]
  },
  {
   "cell_type": "code",
   "execution_count": 9,
   "metadata": {},
   "outputs": [],
   "source": [
    "n = 10\n",
    "k = [10, 100, 1000]"
   ]
  },
  {
   "cell_type": "code",
   "execution_count": 12,
   "metadata": {},
   "outputs": [
    {
     "data": {
      "text/plain": [
       "[29.1, 31.12, 29.224]"
      ]
     },
     "execution_count": 12,
     "metadata": {},
     "output_type": "execute_result"
    }
   ],
   "source": [
    "ans = list()\n",
    "for i in k:\n",
    "    ans.append(solve_coupon_M_C(n, i))\n",
    "ans"
   ]
  }
 ],
 "metadata": {
  "kernelspec": {
   "display_name": "Python 3",
   "language": "python",
   "name": "python3"
  },
  "language_info": {
   "codemirror_mode": {
    "name": "ipython",
    "version": 3
   },
   "file_extension": ".py",
   "mimetype": "text/x-python",
   "name": "python",
   "nbconvert_exporter": "python",
   "pygments_lexer": "ipython3",
   "version": "3.10.12"
  }
 },
 "nbformat": 4,
 "nbformat_minor": 2
}
