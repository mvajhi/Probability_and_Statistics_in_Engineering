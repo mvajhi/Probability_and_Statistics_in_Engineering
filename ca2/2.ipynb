{
 "cells": [
  {
   "cell_type": "markdown",
   "metadata": {},
   "source": [
    "# Question 2"
   ]
  },
  {
   "cell_type": "code",
   "execution_count": 1,
   "metadata": {},
   "outputs": [],
   "source": [
    "import numpy as np\n",
    "import sympy as sp"
   ]
  },
  {
   "cell_type": "markdown",
   "metadata": {},
   "source": [
    "## Part 1"
   ]
  },
  {
   "cell_type": "code",
   "execution_count": 2,
   "metadata": {},
   "outputs": [],
   "source": [
    "def simulate_coupon(n : int) -> int:\n",
    "    check_list = [0] * n\n",
    "    check_list_counter = 0\n",
    "    try_counter = 0\n",
    "    while (check_list_counter < n):\n",
    "        try_counter += 1\n",
    "        new_coupon = np.random.randint(0, n)\n",
    "        if check_list[new_coupon] == 0:\n",
    "            check_list[new_coupon] = 1\n",
    "            check_list_counter += 1\n",
    "    return try_counter"
   ]
  },
  {
   "cell_type": "code",
   "execution_count": 3,
   "metadata": {},
   "outputs": [],
   "source": [
    "def solve_coupon_M_C(n : int, k : int) -> float:\n",
    "    sum_of_try = 0\n",
    "    for i in range(k):\n",
    "        sum_of_try += simulate_coupon(n)\n",
    "    return sum_of_try / k"
   ]
  },
  {
   "cell_type": "markdown",
   "metadata": {},
   "source": [
    "## Part 2"
   ]
  },
  {
   "cell_type": "code",
   "execution_count": 4,
   "metadata": {},
   "outputs": [],
   "source": [
    "n = 10\n",
    "k = [10, 100, 1000]"
   ]
  },
  {
   "cell_type": "code",
   "execution_count": 5,
   "metadata": {},
   "outputs": [
    {
     "data": {
      "text/plain": [
       "[28.7, 32.85, 29.739]"
      ]
     },
     "execution_count": 5,
     "metadata": {},
     "output_type": "execute_result"
    }
   ],
   "source": [
    "ans = list()\n",
    "for i in k:\n",
    "    ans.append(solve_coupon_M_C(n, i))\n",
    "ans"
   ]
  },
  {
   "cell_type": "markdown",
   "metadata": {},
   "source": [
    "## Part 3"
   ]
  },
  {
   "cell_type": "code",
   "execution_count": 21,
   "metadata": {},
   "outputs": [],
   "source": [
    "n = sp.symbols('n')\n",
    "i = sp.symbols('i')\n",
    "s = sp.symbols('s')"
   ]
  },
  {
   "cell_type": "code",
   "execution_count": 22,
   "metadata": {},
   "outputs": [
    {
     "data": {
      "text/latex": [
       "$\\displaystyle \\frac{- i + n + 1}{n}$"
      ],
      "text/plain": [
       "(-i + n + 1)/n"
      ]
     },
     "execution_count": 22,
     "metadata": {},
     "output_type": "execute_result"
    }
   ],
   "source": [
    "p_i = ((n - (i - 1)) / n)\n",
    "p_i"
   ]
  },
  {
   "cell_type": "code",
   "execution_count": 23,
   "metadata": {},
   "outputs": [
    {
     "data": {
      "text/latex": [
       "$\\displaystyle \\frac{\\left(- i + n + 1\\right) e^{s}}{n \\left(- \\left(1 - \\frac{- i + n + 1}{n}\\right) e^{s} + 1\\right)}$"
      ],
      "text/plain": [
       "(-i + n + 1)*exp(s)/(n*(-(1 - (-i + n + 1)/n)*exp(s) + 1))"
      ]
     },
     "execution_count": 23,
     "metadata": {},
     "output_type": "execute_result"
    }
   ],
   "source": [
    "phi_x = ((sp.E ** s) * p_i) / (1 - ((1 - p_i) * sp.E ** s))\n",
    "phi_x"
   ]
  },
  {
   "cell_type": "markdown",
   "metadata": {},
   "source": [
    "## Part 4"
   ]
  },
  {
   "cell_type": "code",
   "execution_count": 24,
   "metadata": {},
   "outputs": [
    {
     "data": {
      "text/latex": [
       "$\\displaystyle \\prod_{i=1}^{n} \\frac{\\left(- i + n + 1\\right) e^{s}}{n \\left(- \\left(1 - \\frac{- i + n + 1}{n}\\right) e^{s} + 1\\right)}$"
      ],
      "text/plain": [
       "Product((-i + n + 1)*exp(s)/(n*(-(1 - (-i + n + 1)/n)*exp(s) + 1)), (i, 1, n))"
      ]
     },
     "execution_count": 24,
     "metadata": {},
     "output_type": "execute_result"
    }
   ],
   "source": [
    "phi_X = sp.Product(phi_x, (i, 1, n))\n",
    "phi_X"
   ]
  },
  {
   "cell_type": "markdown",
   "metadata": {},
   "source": [
    "## Part 5"
   ]
  },
  {
   "cell_type": "code",
   "execution_count": 25,
   "metadata": {},
   "outputs": [
    {
     "data": {
      "text/latex": [
       "$\\displaystyle 29.2896825396825$"
      ],
      "text/plain": [
       "29.2896825396825"
      ]
     },
     "execution_count": 25,
     "metadata": {},
     "output_type": "execute_result"
    }
   ],
   "source": [
    "E_X = sp.diff(phi_X, s).subs({n : 10, s : 0}).evalf()\n",
    "E_X"
   ]
  }
 ],
 "metadata": {
  "kernelspec": {
   "display_name": "Python 3",
   "language": "python",
   "name": "python3"
  },
  "language_info": {
   "codemirror_mode": {
    "name": "ipython",
    "version": 3
   },
   "file_extension": ".py",
   "mimetype": "text/x-python",
   "name": "python",
   "nbconvert_exporter": "python",
   "pygments_lexer": "ipython3",
   "version": "3.10.12"
  }
 },
 "nbformat": 4,
 "nbformat_minor": 2
}
